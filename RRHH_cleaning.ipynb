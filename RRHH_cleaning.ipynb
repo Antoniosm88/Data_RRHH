{
 "cells": [
  {
   "cell_type": "code",
   "execution_count": 19,
   "metadata": {},
   "outputs": [],
   "source": [
    "import pandas as pd"
   ]
  },
  {
   "cell_type": "code",
   "execution_count": 20,
   "metadata": {},
   "outputs": [],
   "source": [
    "from functools import reduce"
   ]
  },
  {
   "cell_type": "code",
   "execution_count": 21,
   "metadata": {},
   "outputs": [
    {
     "data": {
      "text/plain": [
       "Index(['MES', 'PAIS', 'EMPRESA', 'RAZON SOCIAL', 'CIF', 'CODIGO FLEX EMPRESA',\n",
       "       'CODIGO GPCN', 'PRIMER APELLIDO', 'SEGUNDO APELLIDO', 'NOMBRE',\n",
       "       'FECHA NACIMIENTO', 'Nº FLEX', 'CODIGO SF', 'MAIL TRABAJADOR',\n",
       "       'FECHA ANTIGUEDAD', 'NIF', 'SEXO', 'MODALIDAD DEL CONTRATO', 'NIVEL1',\n",
       "       'NIVEL2', 'NIVEL3', 'PC', 'OFICINA FISICA', 'CODIGO FLEX OFICINA',\n",
       "       'CATEGORIA / PUESTO', 'CONVENIO', 'NIVEL SALARIAL', 'FTE',\n",
       "       'GRUPO COSTE', 'MANAGER', 'Nº S.S.', 'GRUPO COTIZACION',\n",
       "       'CENTRO DE COTIZACION', 'RESPONSABLE PC',\n",
       "       'APROBADOR PORTAL DEL EMPLEADO', 'MAIL APROBADOR',\n",
       "       'SEGUNDO APROBADOR COMPRAS', 'MAIL SEGUNDO APROV. COMPRAS',\n",
       "       'REVENUES Actual YTD', 'REVENUES Budget YTD  ', 'REVENUES VAR YTD',\n",
       "       'OP Actual YTD', 'OP Budget YTD  ', 'OP VAR YTD'],\n",
       "      dtype='object')"
      ]
     },
     "execution_count": 21,
     "metadata": {},
     "output_type": "execute_result"
    }
   ],
   "source": [
    "df2= pd.read_excel('/home/antonio/Documentos/BV/RRHH/Data/Informe trimestral Q4 2020.xlsx',engine='openpyxl',sheet_name='HC YTD')\n",
    "df2.columns"
   ]
  },
  {
   "cell_type": "code",
   "execution_count": 22,
   "metadata": {},
   "outputs": [],
   "source": [
    "df2.dropna(subset = ['REVENUES Actual YTD'], inplace=True)"
   ]
  },
  {
   "cell_type": "code",
   "execution_count": 23,
   "metadata": {},
   "outputs": [
    {
     "data": {
      "text/plain": [
       "(13736,)"
      ]
     },
     "execution_count": 23,
     "metadata": {},
     "output_type": "execute_result"
    }
   ],
   "source": [
    "df2['REVENUES Actual YTD'].shape"
   ]
  },
  {
   "cell_type": "code",
   "execution_count": 24,
   "metadata": {},
   "outputs": [
    {
     "data": {
      "text/plain": [
       "Index(['MES', 'PAIS', 'EMPRESA', 'RAZON SOCIAL', 'CIF', 'COD FLEX EMPRESA',\n",
       "       'COD TRABAJADOR', 'APELLIDO 1', 'APELLIDO 2', 'NOMBRE',\n",
       "       'FECHA NACIMIENTO', 'Nº FLEX', 'SF ID', 'MAIL TRABAJADOR',\n",
       "       'FECHA ANTIGUEDAD', 'FECHA ALTA', 'FECHA BAJA', 'TIPO DE BAJA',\n",
       "       'CATEGORIA BAJA', 'NIF', 'SEXO', 'MODALIDAD DEL CONTRATO', 'NIVEL1',\n",
       "       'NIVEL2', 'NIVEL3', 'PC', 'CENTRO FISICO', 'COD FLEX CENTRO FISICO',\n",
       "       'PUESTO/ CATEGORIA', 'CONVENIO', 'NIVEL SALARIAL', 'FTE', 'GRUPO COSTE',\n",
       "       'MANAGER', 'Nº S.S.', 'GRUPO COTIZACION', 'CENTRO DE COTIZACION',\n",
       "       'RESPONSABLE PC', 'N+1', 'MAIL N+1', 'SEGUNDO APROBADOR COMPRAS',\n",
       "       'MAIL SEGUNDO APROB. COMPRAS'],\n",
       "      dtype='object')"
      ]
     },
     "execution_count": 24,
     "metadata": {},
     "output_type": "execute_result"
    }
   ],
   "source": [
    "df3= pd.read_excel('/home/antonio/Documentos/BV/RRHH/Data/Informe trimestral Q4 2020.xlsx',engine='openpyxl',sheet_name='BAJAS YTD')\n",
    "df3.columns"
   ]
  },
  {
   "cell_type": "code",
   "execution_count": 25,
   "metadata": {},
   "outputs": [],
   "source": [
    "df3=df3[['NIF','FECHA ALTA', 'FECHA BAJA', 'TIPO DE BAJA','CATEGORIA BAJA','MODALIDAD DEL CONTRATO','PC']]"
   ]
  },
  {
   "cell_type": "code",
   "execution_count": 26,
   "metadata": {},
   "outputs": [
    {
     "data": {
      "text/html": [
       "<div>\n",
       "<style scoped>\n",
       "    .dataframe tbody tr th:only-of-type {\n",
       "        vertical-align: middle;\n",
       "    }\n",
       "\n",
       "    .dataframe tbody tr th {\n",
       "        vertical-align: top;\n",
       "    }\n",
       "\n",
       "    .dataframe thead th {\n",
       "        text-align: right;\n",
       "    }\n",
       "</style>\n",
       "<table border=\"1\" class=\"dataframe\">\n",
       "  <thead>\n",
       "    <tr style=\"text-align: right;\">\n",
       "      <th></th>\n",
       "      <th>NIF</th>\n",
       "      <th>FECHA ALTA</th>\n",
       "      <th>FECHA BAJA</th>\n",
       "      <th>TIPO DE BAJA</th>\n",
       "      <th>CATEGORIA BAJA</th>\n",
       "      <th>MODALIDAD DEL CONTRATO</th>\n",
       "      <th>PC</th>\n",
       "    </tr>\n",
       "  </thead>\n",
       "  <tbody>\n",
       "    <tr>\n",
       "      <th>0</th>\n",
       "      <td>051679500H</td>\n",
       "      <td>2011-08-01</td>\n",
       "      <td>2020-01-07</td>\n",
       "      <td>DESPIDO</td>\n",
       "      <td>NaN</td>\n",
       "      <td>100-Indefinido. Tiempo completo. Ordinario.</td>\n",
       "      <td>0071GSBL1</td>\n",
       "    </tr>\n",
       "    <tr>\n",
       "      <th>1</th>\n",
       "      <td>033353066F</td>\n",
       "      <td>2017-01-23</td>\n",
       "      <td>2020-01-31</td>\n",
       "      <td>DIMISION/BAJA VOLUNTARIA</td>\n",
       "      <td>EXCEDENCIA VOLUNTARIA</td>\n",
       "      <td>100-Indefinido. Tiempo completo. Ordinario.</td>\n",
       "      <td>0071CEAF1</td>\n",
       "    </tr>\n",
       "    <tr>\n",
       "      <th>2</th>\n",
       "      <td>039656547Q</td>\n",
       "      <td>2001-09-03</td>\n",
       "      <td>2020-01-10</td>\n",
       "      <td>DESPIDO</td>\n",
       "      <td>NaN</td>\n",
       "      <td>100-Indefinido. Tiempo completo. Ordinario.</td>\n",
       "      <td>0071IT431</td>\n",
       "    </tr>\n",
       "    <tr>\n",
       "      <th>3</th>\n",
       "      <td>039714860R</td>\n",
       "      <td>2004-07-14</td>\n",
       "      <td>2020-01-10</td>\n",
       "      <td>DIMISION/BAJA VOLUNTARIA</td>\n",
       "      <td>NaN</td>\n",
       "      <td>100-Indefinido. Tiempo completo. Ordinario.</td>\n",
       "      <td>0071IT431</td>\n",
       "    </tr>\n",
       "    <tr>\n",
       "      <th>4</th>\n",
       "      <td>078714093C</td>\n",
       "      <td>2020-01-01</td>\n",
       "      <td>2020-01-31</td>\n",
       "      <td>DIMISION/BAJA VOLUNTARIA</td>\n",
       "      <td>NaN</td>\n",
       "      <td>189-Indefinido. Tiempo completo. Transformació...</td>\n",
       "      <td>0434OP381</td>\n",
       "    </tr>\n",
       "    <tr>\n",
       "      <th>...</th>\n",
       "      <td>...</td>\n",
       "      <td>...</td>\n",
       "      <td>...</td>\n",
       "      <td>...</td>\n",
       "      <td>...</td>\n",
       "      <td>...</td>\n",
       "      <td>...</td>\n",
       "    </tr>\n",
       "    <tr>\n",
       "      <th>467</th>\n",
       "      <td>075381935X</td>\n",
       "      <td>2020-12-16</td>\n",
       "      <td>2020-12-17</td>\n",
       "      <td>FIN DE CONTRATO</td>\n",
       "      <td>NaN</td>\n",
       "      <td>501-Tiempo parcial. Obra o servicio determinado.</td>\n",
       "      <td>0434TRBL1</td>\n",
       "    </tr>\n",
       "    <tr>\n",
       "      <th>468</th>\n",
       "      <td>044706694F</td>\n",
       "      <td>2020-12-03</td>\n",
       "      <td>2020-12-03</td>\n",
       "      <td>FIN DE CONTRATO</td>\n",
       "      <td>NaN</td>\n",
       "      <td>401-Obra o servicio determinado.</td>\n",
       "      <td>0434HIEN4</td>\n",
       "    </tr>\n",
       "    <tr>\n",
       "      <th>469</th>\n",
       "      <td>040882378Q</td>\n",
       "      <td>2020-12-10</td>\n",
       "      <td>2020-12-18</td>\n",
       "      <td>FIN DE CONTRATO</td>\n",
       "      <td>NaN</td>\n",
       "      <td>401-Obra o servicio determinado.</td>\n",
       "      <td>0434HIEN5</td>\n",
       "    </tr>\n",
       "    <tr>\n",
       "      <th>470</th>\n",
       "      <td>031860203M</td>\n",
       "      <td>2020-12-14</td>\n",
       "      <td>2020-12-23</td>\n",
       "      <td>FIN DE CONTRATO</td>\n",
       "      <td>NaN</td>\n",
       "      <td>401-Obra o servicio determinado.</td>\n",
       "      <td>0434HIEN4</td>\n",
       "    </tr>\n",
       "    <tr>\n",
       "      <th>471</th>\n",
       "      <td>071022017H</td>\n",
       "      <td>2020-10-05</td>\n",
       "      <td>2020-11-24</td>\n",
       "      <td>FIN DE CONTRATO</td>\n",
       "      <td>NaN</td>\n",
       "      <td>501-Tiempo parcial. Obra o servicio determinado.</td>\n",
       "      <td>0071CE282</td>\n",
       "    </tr>\n",
       "  </tbody>\n",
       "</table>\n",
       "<p>472 rows × 7 columns</p>\n",
       "</div>"
      ],
      "text/plain": [
       "            NIF FECHA ALTA FECHA BAJA              TIPO DE BAJA  \\\n",
       "0    051679500H 2011-08-01 2020-01-07                   DESPIDO   \n",
       "1    033353066F 2017-01-23 2020-01-31  DIMISION/BAJA VOLUNTARIA   \n",
       "2    039656547Q 2001-09-03 2020-01-10                   DESPIDO   \n",
       "3    039714860R 2004-07-14 2020-01-10  DIMISION/BAJA VOLUNTARIA   \n",
       "4    078714093C 2020-01-01 2020-01-31  DIMISION/BAJA VOLUNTARIA   \n",
       "..          ...        ...        ...                       ...   \n",
       "467  075381935X 2020-12-16 2020-12-17           FIN DE CONTRATO   \n",
       "468  044706694F 2020-12-03 2020-12-03           FIN DE CONTRATO   \n",
       "469  040882378Q 2020-12-10 2020-12-18           FIN DE CONTRATO   \n",
       "470  031860203M 2020-12-14 2020-12-23           FIN DE CONTRATO   \n",
       "471  071022017H 2020-10-05 2020-11-24           FIN DE CONTRATO   \n",
       "\n",
       "            CATEGORIA BAJA                             MODALIDAD DEL CONTRATO  \\\n",
       "0                      NaN        100-Indefinido. Tiempo completo. Ordinario.   \n",
       "1    EXCEDENCIA VOLUNTARIA        100-Indefinido. Tiempo completo. Ordinario.   \n",
       "2                      NaN        100-Indefinido. Tiempo completo. Ordinario.   \n",
       "3                      NaN        100-Indefinido. Tiempo completo. Ordinario.   \n",
       "4                      NaN  189-Indefinido. Tiempo completo. Transformació...   \n",
       "..                     ...                                                ...   \n",
       "467                    NaN   501-Tiempo parcial. Obra o servicio determinado.   \n",
       "468                    NaN                   401-Obra o servicio determinado.   \n",
       "469                    NaN                   401-Obra o servicio determinado.   \n",
       "470                    NaN                   401-Obra o servicio determinado.   \n",
       "471                    NaN   501-Tiempo parcial. Obra o servicio determinado.   \n",
       "\n",
       "            PC  \n",
       "0    0071GSBL1  \n",
       "1    0071CEAF1  \n",
       "2    0071IT431  \n",
       "3    0071IT431  \n",
       "4    0434OP381  \n",
       "..         ...  \n",
       "467  0434TRBL1  \n",
       "468  0434HIEN4  \n",
       "469  0434HIEN5  \n",
       "470  0434HIEN4  \n",
       "471  0071CE282  \n",
       "\n",
       "[472 rows x 7 columns]"
      ]
     },
     "execution_count": 26,
     "metadata": {},
     "output_type": "execute_result"
    }
   ],
   "source": [
    "df3"
   ]
  },
  {
   "cell_type": "code",
   "execution_count": null,
   "metadata": {},
   "outputs": [],
   "source": []
  },
  {
   "cell_type": "code",
   "execution_count": 27,
   "metadata": {},
   "outputs": [
    {
     "data": {
      "text/plain": [
       "Index(['MES', 'PAIS', 'EMPRESA', 'RAZON SOCIAL', 'CIF', 'COD FLEX EMPRESA',\n",
       "       'COD TRABAJADOR', 'APELLIDO 1', 'APELLIDO 2', 'NOMBRE',\n",
       "       'FECHA NACIMIENTO', 'Nº FLEX', 'SF ID', 'MAIL TRABAJADOR',\n",
       "       'FECHA ANTIGUEDAD', 'FECHA ALTA', 'NIF', 'SEXO',\n",
       "       'MODALIDAD DEL CONTRATO', 'IND/TEMP', 'NIVEL1', 'NIVEL2', 'NIVEL3',\n",
       "       'PC', 'CENTRO FISICO', 'COD FLEX CENTRO FISICO', 'PUESTO / CATEGORIA',\n",
       "       'CONVENIO', 'NIVEL SALARIAL', 'FTE', 'GRUPO COSTE', 'MANAGER',\n",
       "       'Nº S.S.', 'GRUPO COTIZACION', 'CENTRO DE COTIZACION', 'RESPONSABLE PC',\n",
       "       'N+1', 'MAIL N+1', 'SEGUNDO APROBADOR COMPRAS',\n",
       "       'MAIL SEGUNDO APROB. COMPRAS'],\n",
       "      dtype='object')"
      ]
     },
     "execution_count": 27,
     "metadata": {},
     "output_type": "execute_result"
    }
   ],
   "source": [
    "df4= pd.read_excel('/home/antonio/Documentos/BV/RRHH/Data/Informe trimestral Q4 2020.xlsx',engine='openpyxl',sheet_name='ALTAS YTD')\n",
    "df4.columns"
   ]
  },
  {
   "cell_type": "code",
   "execution_count": 31,
   "metadata": {},
   "outputs": [],
   "source": [
    "df4=df4[['NIF','FECHA ANTIGUEDAD','FECHA ALTA','MODALIDAD DEL CONTRATO']]"
   ]
  },
  {
   "cell_type": "code",
   "execution_count": 28,
   "metadata": {},
   "outputs": [],
   "source": [
    "#df_merged = reduce(lambda  left,right: pd.merge(left,right,on=['NIF'],how='outer'), data_frames)"
   ]
  },
  {
   "cell_type": "code",
   "execution_count": 32,
   "metadata": {},
   "outputs": [],
   "source": [
    "df_merged=pd.merge( df2 ,df3, on='NIF', how='outer')"
   ]
  },
  {
   "cell_type": "code",
   "execution_count": 33,
   "metadata": {},
   "outputs": [],
   "source": [
    "df_merged=pd.merge( df_merged ,df4, on='NIF', how='outer')"
   ]
  },
  {
   "cell_type": "code",
   "execution_count": 13,
   "metadata": {},
   "outputs": [],
   "source": [
    "df_merged['NOMBRE Y APELLIDOS']= df_merged['NOMBRE_x'] + \" \" + df_merged['PRIMER APELLIDO']+ \" \" +df_merged['SEGUNDO APELLIDO']"
   ]
  },
  {
   "cell_type": "code",
   "execution_count": 14,
   "metadata": {},
   "outputs": [],
   "source": [
    "df_merged2=pd.merge( df_merged ,df4, on='NIF', how='outer')"
   ]
  },
  {
   "cell_type": "code",
   "execution_count": 15,
   "metadata": {},
   "outputs": [
    {
     "data": {
      "text/plain": [
       "Index(['MES_x', 'PAIS_x', 'EMPRESA_x', 'RAZON SOCIAL_x', 'CIF_x',\n",
       "       'CODIGO FLEX EMPRESA', 'CODIGO GPCN', 'PRIMER APELLIDO',\n",
       "       'SEGUNDO APELLIDO', 'NOMBRE_x',\n",
       "       ...\n",
       "       'GRUPO COSTE', 'MANAGER', 'Nº S.S.', 'GRUPO COTIZACION',\n",
       "       'CENTRO DE COTIZACION', 'RESPONSABLE PC', 'N+1_y', 'MAIL N+1_y',\n",
       "       'SEGUNDO APROBADOR COMPRAS', 'MAIL SEGUNDO APROB. COMPRAS_y'],\n",
       "      dtype='object', length=125)"
      ]
     },
     "execution_count": 15,
     "metadata": {},
     "output_type": "execute_result"
    }
   ],
   "source": [
    "df_merged2.columns\n"
   ]
  },
  {
   "cell_type": "markdown",
   "metadata": {},
   "source": [
    "df_merged2=df_merged2[['MES', 'PAIS', 'EMPRESA', 'RAZON SOCIAL', 'CIF', 'CODIGO FLEX EMPRESA',\n",
    "       'CODIGO GPCN', 'NOMBRE Y APELLIDOS','PRIMER APELLIDO', 'SEGUNDO APELLIDO', 'NOMBRE',\n",
    "       'FECHA NACIMIENTO', 'Nº FLEX', 'CODIGO SF', 'MAIL TRABAJADOR',\n",
    "       'FECHA ANTIGUEDAD', 'NIF', 'SEXO', 'MODALIDAD DEL CONTRATO', 'NIVEL1',\n",
    "       'NIVEL2', 'NIVEL3', 'PC', 'OFICINA FISICA', 'CODIGO FLEX OFICINA',\n",
    "       'CATEGORIA / PUESTO', 'CONVENIO', 'NIVEL SALARIAL', 'FTE',\n",
    "       'GRUPO COSTE', 'MANAGER', 'Nº S.S.', 'GRUPO COTIZACION',\n",
    "       'CENTRO DE COTIZACION', 'RESPONSABLE PC',\n",
    "       'APROBADOR PORTAL DEL EMPLEADO', 'MAIL APROBADOR',\n",
    "       'SEGUNDO APROBADOR COMPRAS', 'MAIL SEGUNDO APROV. COMPRAS',\n",
    "       'REVENUES Actual YTD', 'REVENUES Budget YTD  ', 'REVENUES VAR YTD',\n",
    "       'OP Actual YTD', 'OP Budget YTD  ', 'OP VAR YTD','FECHA ANTIGUEDAD','FECHA ALTA_x','FECHA BAJA','TIPO DE BAJA','CATEGORIA BAJA','FECHA ALTA_y','FECHA ANTIGUEDAD_y']]"
   ]
  },
  {
   "cell_type": "code",
   "execution_count": null,
   "metadata": {},
   "outputs": [],
   "source": []
  },
  {
   "cell_type": "code",
   "execution_count": null,
   "metadata": {},
   "outputs": [],
   "source": []
  },
  {
   "cell_type": "code",
   "execution_count": null,
   "metadata": {},
   "outputs": [],
   "source": []
  },
  {
   "cell_type": "code",
   "execution_count": null,
   "metadata": {},
   "outputs": [],
   "source": []
  },
  {
   "cell_type": "code",
   "execution_count": null,
   "metadata": {},
   "outputs": [],
   "source": []
  },
  {
   "cell_type": "code",
   "execution_count": 35,
   "metadata": {},
   "outputs": [],
   "source": [
    "df_merged.to_excel('/home/antonio/Documentos/BV/RRHH/Data/prueba.xlsx')"
   ]
  },
  {
   "cell_type": "code",
   "execution_count": null,
   "metadata": {},
   "outputs": [],
   "source": []
  },
  {
   "cell_type": "code",
   "execution_count": null,
   "metadata": {},
   "outputs": [],
   "source": []
  }
 ],
 "metadata": {
  "kernelspec": {
   "display_name": "Python 3",
   "language": "python",
   "name": "python3"
  },
  "language_info": {
   "codemirror_mode": {
    "name": "ipython",
    "version": 3
   },
   "file_extension": ".py",
   "mimetype": "text/x-python",
   "name": "python",
   "nbconvert_exporter": "python",
   "pygments_lexer": "ipython3",
   "version": "3.6.9"
  }
 },
 "nbformat": 4,
 "nbformat_minor": 4
}
